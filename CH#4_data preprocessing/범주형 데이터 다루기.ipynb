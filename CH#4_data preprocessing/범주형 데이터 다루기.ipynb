{
 "cells": [
  {
   "cell_type": "markdown",
   "id": "fcba53a8",
   "metadata": {},
   "source": [
    "# ✅범주형 데이터 다루기\n",
    "\n",
    "> * 머신러닝 알고리즘은 문자열 값을 입력 값으로 받아들이지 않음\n",
    "\n",
    ">  => **문자열 값들을 숫자 형으로 인코딩한 이후 머신러닝 학습 진행해야함**"
   ]
  },
  {
   "cell_type": "code",
   "execution_count": 45,
   "id": "78261f30",
   "metadata": {},
   "outputs": [
    {
     "data": {
      "text/html": [
       "<div>\n",
       "<style scoped>\n",
       "    .dataframe tbody tr th:only-of-type {\n",
       "        vertical-align: middle;\n",
       "    }\n",
       "\n",
       "    .dataframe tbody tr th {\n",
       "        vertical-align: top;\n",
       "    }\n",
       "\n",
       "    .dataframe thead th {\n",
       "        text-align: right;\n",
       "    }\n",
       "</style>\n",
       "<table border=\"1\" class=\"dataframe\">\n",
       "  <thead>\n",
       "    <tr style=\"text-align: right;\">\n",
       "      <th></th>\n",
       "      <th>color</th>\n",
       "      <th>size</th>\n",
       "      <th>price</th>\n",
       "      <th>classlabel</th>\n",
       "    </tr>\n",
       "  </thead>\n",
       "  <tbody>\n",
       "    <tr>\n",
       "      <th>0</th>\n",
       "      <td>pink</td>\n",
       "      <td>M</td>\n",
       "      <td>14</td>\n",
       "      <td>class1</td>\n",
       "    </tr>\n",
       "    <tr>\n",
       "      <th>1</th>\n",
       "      <td>orange</td>\n",
       "      <td>S</td>\n",
       "      <td>8</td>\n",
       "      <td>class2</td>\n",
       "    </tr>\n",
       "    <tr>\n",
       "      <th>2</th>\n",
       "      <td>skyblue</td>\n",
       "      <td>L</td>\n",
       "      <td>19</td>\n",
       "      <td>class1</td>\n",
       "    </tr>\n",
       "  </tbody>\n",
       "</table>\n",
       "</div>"
      ],
      "text/plain": [
       "     color size  price classlabel\n",
       "0     pink    M     14     class1\n",
       "1   orange    S      8     class2\n",
       "2  skyblue    L     19     class1"
      ]
     },
     "execution_count": 45,
     "metadata": {},
     "output_type": "execute_result"
    }
   ],
   "source": [
    "import pandas as pd\n",
    "import numpy as np\n",
    "\n",
    "df = pd.DataFrame([\n",
    "                    ['pink','M',14,'class1'],\n",
    "                    ['orange','S',8,'class2'],\n",
    "                    ['skyblue','L',19,'class1']\n",
    "                ])\n",
    "df.columns = ['color','size','price','classlabel']\n",
    "df"
   ]
  },
  {
   "cell_type": "markdown",
   "id": "5824ddcf",
   "metadata": {},
   "source": [
    "## 1️⃣ 순서가 있는 특성 매핑\n",
    "\n",
    "> * size특성을 순서대로 정수형으로 인코딩하는 함수는 없음\n",
    "\n",
    "> => **인코딩 함수 직접 정의 필요**"
   ]
  },
  {
   "cell_type": "code",
   "execution_count": 46,
   "id": "201181dc",
   "metadata": {},
   "outputs": [
    {
     "data": {
      "text/html": [
       "<div>\n",
       "<style scoped>\n",
       "    .dataframe tbody tr th:only-of-type {\n",
       "        vertical-align: middle;\n",
       "    }\n",
       "\n",
       "    .dataframe tbody tr th {\n",
       "        vertical-align: top;\n",
       "    }\n",
       "\n",
       "    .dataframe thead th {\n",
       "        text-align: right;\n",
       "    }\n",
       "</style>\n",
       "<table border=\"1\" class=\"dataframe\">\n",
       "  <thead>\n",
       "    <tr style=\"text-align: right;\">\n",
       "      <th></th>\n",
       "      <th>color</th>\n",
       "      <th>size</th>\n",
       "      <th>price</th>\n",
       "      <th>classlabel</th>\n",
       "    </tr>\n",
       "  </thead>\n",
       "  <tbody>\n",
       "    <tr>\n",
       "      <th>0</th>\n",
       "      <td>pink</td>\n",
       "      <td>2</td>\n",
       "      <td>14</td>\n",
       "      <td>class1</td>\n",
       "    </tr>\n",
       "    <tr>\n",
       "      <th>1</th>\n",
       "      <td>orange</td>\n",
       "      <td>1</td>\n",
       "      <td>8</td>\n",
       "      <td>class2</td>\n",
       "    </tr>\n",
       "    <tr>\n",
       "      <th>2</th>\n",
       "      <td>skyblue</td>\n",
       "      <td>3</td>\n",
       "      <td>19</td>\n",
       "      <td>class1</td>\n",
       "    </tr>\n",
       "  </tbody>\n",
       "</table>\n",
       "</div>"
      ],
      "text/plain": [
       "     color  size  price classlabel\n",
       "0     pink     2     14     class1\n",
       "1   orange     1      8     class2\n",
       "2  skyblue     3     19     class1"
      ]
     },
     "execution_count": 46,
     "metadata": {},
     "output_type": "execute_result"
    }
   ],
   "source": [
    "encoding_1 = {\n",
    "            'S':1,\n",
    "            'M':2,\n",
    "            'L':3,\n",
    "            }\n",
    "\n",
    "df['size']=df['size'].map(encoding_1)\n",
    "df"
   ]
  },
  {
   "cell_type": "markdown",
   "id": "38530d98",
   "metadata": {},
   "source": [
    "## 2️⃣ 클래스 레이블 인코딩\n",
    "\n",
    "> * 머신러닝 알고리즘은 클래스 레이블이 인코딩되었을 거라고 가정함\n",
    "\n",
    "> * => 순서 특성 매핑과 동일한 방식 적용\n",
    "    \n",
    "> * => 클래스 레이블은 순서 없음"
   ]
  },
  {
   "cell_type": "markdown",
   "id": "3a22e217",
   "metadata": {},
   "source": [
    "### 📌METHOD_1) 매핑 딕셔너리 사용한 인코딩"
   ]
  },
  {
   "cell_type": "code",
   "execution_count": 47,
   "id": "62e46562",
   "metadata": {},
   "outputs": [
    {
     "data": {
      "text/plain": [
       "{'class1': 0, 'class2': 1}"
      ]
     },
     "execution_count": 47,
     "metadata": {},
     "output_type": "execute_result"
    }
   ],
   "source": [
    "encoding_2 = {label:idx for idx,label in\n",
    "             enumerate(np.unique(df['classlabel']))}\n",
    "\n",
    "encoding_2"
   ]
  },
  {
   "cell_type": "code",
   "execution_count": 48,
   "id": "e0ab6add",
   "metadata": {},
   "outputs": [
    {
     "data": {
      "text/html": [
       "<div>\n",
       "<style scoped>\n",
       "    .dataframe tbody tr th:only-of-type {\n",
       "        vertical-align: middle;\n",
       "    }\n",
       "\n",
       "    .dataframe tbody tr th {\n",
       "        vertical-align: top;\n",
       "    }\n",
       "\n",
       "    .dataframe thead th {\n",
       "        text-align: right;\n",
       "    }\n",
       "</style>\n",
       "<table border=\"1\" class=\"dataframe\">\n",
       "  <thead>\n",
       "    <tr style=\"text-align: right;\">\n",
       "      <th></th>\n",
       "      <th>color</th>\n",
       "      <th>size</th>\n",
       "      <th>price</th>\n",
       "      <th>classlabel</th>\n",
       "    </tr>\n",
       "  </thead>\n",
       "  <tbody>\n",
       "    <tr>\n",
       "      <th>0</th>\n",
       "      <td>pink</td>\n",
       "      <td>2</td>\n",
       "      <td>14</td>\n",
       "      <td>0</td>\n",
       "    </tr>\n",
       "    <tr>\n",
       "      <th>1</th>\n",
       "      <td>orange</td>\n",
       "      <td>1</td>\n",
       "      <td>8</td>\n",
       "      <td>1</td>\n",
       "    </tr>\n",
       "    <tr>\n",
       "      <th>2</th>\n",
       "      <td>skyblue</td>\n",
       "      <td>3</td>\n",
       "      <td>19</td>\n",
       "      <td>0</td>\n",
       "    </tr>\n",
       "  </tbody>\n",
       "</table>\n",
       "</div>"
      ],
      "text/plain": [
       "     color  size  price  classlabel\n",
       "0     pink     2     14           0\n",
       "1   orange     1      8           1\n",
       "2  skyblue     3     19           0"
      ]
     },
     "execution_count": 48,
     "metadata": {},
     "output_type": "execute_result"
    }
   ],
   "source": [
    "df['classlabel'] = df['classlabel'].map(encoding_2)\n",
    "df"
   ]
  },
  {
   "cell_type": "markdown",
   "id": "a32ad8ff",
   "metadata": {},
   "source": [
    "### 📌METHOD_2)사이킷런의 LabelEncoder클래스 사용\n"
   ]
  },
  {
   "cell_type": "code",
   "execution_count": 49,
   "id": "3c025f4b",
   "metadata": {},
   "outputs": [
    {
     "data": {
      "text/plain": [
       "array([0, 1, 0], dtype=int64)"
      ]
     },
     "execution_count": 49,
     "metadata": {},
     "output_type": "execute_result"
    }
   ],
   "source": [
    "from sklearn.preprocessing import LabelEncoder\n",
    "\n",
    "#객체 생성\n",
    "target = LabelEncoder()\n",
    "\n",
    "#멤버함수 fit_transform 사용\n",
    "result = target.fit_transform(df['classlabel'].values)\n",
    "result"
   ]
  },
  {
   "cell_type": "markdown",
   "id": "018ea0f8",
   "metadata": {},
   "source": [
    "## 3️⃣ 순서가 없는 특성에 원-핫 인코딩 적용"
   ]
  },
  {
   "cell_type": "markdown",
   "id": "ed3be07a",
   "metadata": {},
   "source": [
    "### 📌METHOD_1)get_dummies 메서드 사용(간편함)\n"
   ]
  },
  {
   "cell_type": "code",
   "execution_count": 50,
   "id": "99cf0b20",
   "metadata": {},
   "outputs": [
    {
     "data": {
      "text/html": [
       "<div>\n",
       "<style scoped>\n",
       "    .dataframe tbody tr th:only-of-type {\n",
       "        vertical-align: middle;\n",
       "    }\n",
       "\n",
       "    .dataframe tbody tr th {\n",
       "        vertical-align: top;\n",
       "    }\n",
       "\n",
       "    .dataframe thead th {\n",
       "        text-align: right;\n",
       "    }\n",
       "</style>\n",
       "<table border=\"1\" class=\"dataframe\">\n",
       "  <thead>\n",
       "    <tr style=\"text-align: right;\">\n",
       "      <th></th>\n",
       "      <th>price</th>\n",
       "      <th>size</th>\n",
       "      <th>color_orange</th>\n",
       "      <th>color_pink</th>\n",
       "      <th>color_skyblue</th>\n",
       "    </tr>\n",
       "  </thead>\n",
       "  <tbody>\n",
       "    <tr>\n",
       "      <th>0</th>\n",
       "      <td>14</td>\n",
       "      <td>2</td>\n",
       "      <td>0</td>\n",
       "      <td>1</td>\n",
       "      <td>0</td>\n",
       "    </tr>\n",
       "    <tr>\n",
       "      <th>1</th>\n",
       "      <td>8</td>\n",
       "      <td>1</td>\n",
       "      <td>1</td>\n",
       "      <td>0</td>\n",
       "      <td>0</td>\n",
       "    </tr>\n",
       "    <tr>\n",
       "      <th>2</th>\n",
       "      <td>19</td>\n",
       "      <td>3</td>\n",
       "      <td>0</td>\n",
       "      <td>0</td>\n",
       "      <td>1</td>\n",
       "    </tr>\n",
       "  </tbody>\n",
       "</table>\n",
       "</div>"
      ],
      "text/plain": [
       "   price  size  color_orange  color_pink  color_skyblue\n",
       "0     14     2             0           1              0\n",
       "1      8     1             1           0              0\n",
       "2     19     3             0           0              1"
      ]
     },
     "execution_count": 50,
     "metadata": {},
     "output_type": "execute_result"
    }
   ],
   "source": [
    "pd.get_dummies(df[['price','color','size']],\n",
    "              columns = ['color'])"
   ]
  },
  {
   "cell_type": "markdown",
   "id": "cd2c3220",
   "metadata": {},
   "source": [
    "### 📌METHOD_2)사이킷런의 OneHotEncoder 사용(복잡함)"
   ]
  },
  {
   "cell_type": "code",
   "execution_count": 58,
   "id": "8d73a809",
   "metadata": {},
   "outputs": [
    {
     "data": {
      "text/plain": [
       "array([[0., 1., 0.],\n",
       "       [1., 0., 0.],\n",
       "       [0., 0., 1.]])"
      ]
     },
     "execution_count": 58,
     "metadata": {},
     "output_type": "execute_result"
    }
   ],
   "source": [
    "from sklearn.preprocessing import OneHotEncoder\n",
    "\n",
    "X = df[['color','size','price']].values\n",
    "\n",
    "oh_encoding = OneHotEncoder()\n",
    "oh_encoding.fit_transform(X[:, 0].reshape(-1, 1)).toarray()"
   ]
  }
 ],
 "metadata": {
  "kernelspec": {
   "display_name": "Python 3",
   "language": "python",
   "name": "python3"
  },
  "language_info": {
   "codemirror_mode": {
    "name": "ipython",
    "version": 3
   },
   "file_extension": ".py",
   "mimetype": "text/x-python",
   "name": "python",
   "nbconvert_exporter": "python",
   "pygments_lexer": "ipython3",
   "version": "3.9.4"
  }
 },
 "nbformat": 4,
 "nbformat_minor": 5
}
