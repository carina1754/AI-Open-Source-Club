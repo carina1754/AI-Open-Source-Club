{
 "cells": [
  {
   "cell_type": "code",
   "execution_count": 1,
   "id": "ae2858ec",
   "metadata": {},
   "outputs": [],
   "source": [
    "#데이터 정규화\n",
    "import pandas as pd\n",
    "import numpy as np"
   ]
  },
  {
   "cell_type": "code",
   "execution_count": 2,
   "id": "1a6a95c8",
   "metadata": {},
   "outputs": [],
   "source": [
    "df=pd.read_csv('../data/stock.csv')"
   ]
  },
  {
   "cell_type": "code",
   "execution_count": 4,
   "id": "bf529e92",
   "metadata": {},
   "outputs": [
    {
     "data": {
      "text/plain": [
       "(99956, 8)"
      ]
     },
     "execution_count": 4,
     "metadata": {},
     "output_type": "execute_result"
    }
   ],
   "source": [
    "#sample과 feature에 대한 정보 확인\n",
    "df.shape"
   ]
  },
  {
   "cell_type": "code",
   "execution_count": 5,
   "id": "1882520f",
   "metadata": {},
   "outputs": [
    {
     "data": {
      "text/plain": [
       "Index(['Order Date', 'Brand', 'Sneaker Name', 'Sale Price', 'Retail Price',\n",
       "       'Release Date', 'Shoe Size', 'Buyer Region'],\n",
       "      dtype='object')"
      ]
     },
     "execution_count": 5,
     "metadata": {},
     "output_type": "execute_result"
    }
   ],
   "source": [
    "#feature 확인\n",
    "df.columns"
   ]
  },
  {
   "cell_type": "code",
   "execution_count": 8,
   "id": "5af4f195",
   "metadata": {},
   "outputs": [
    {
     "data": {
      "text/plain": [
       "0        11.0\n",
       "1        11.0\n",
       "2        11.0\n",
       "3        11.5\n",
       "4        11.0\n",
       "         ... \n",
       "99951     8.0\n",
       "99952     8.5\n",
       "99953     5.5\n",
       "99954    11.0\n",
       "99955    11.5\n",
       "Name: Shoe Size, Length: 99956, dtype: float64"
      ]
     },
     "execution_count": 8,
     "metadata": {},
     "output_type": "execute_result"
    }
   ],
   "source": [
    "#특정 열에 대한 데이터 확인\n",
    "df['Shoe Size']"
   ]
  },
  {
   "cell_type": "code",
   "execution_count": 22,
   "id": "02c98a3e",
   "metadata": {
    "scrolled": true
   },
   "outputs": [
    {
     "data": {
      "text/plain": [
       "array([11. , 11. , 11. , 11.5, 11. ,  8.5, 11. , 10. , 11. , 11. , 11.5,\n",
       "       10. ,  9. , 14. ,  8. , 11. , 11. , 10. ,  9. ,  5.5,  9. ,  9.5,\n",
       "       14. ,  8. , 11. ,  9. ,  8. , 11.5, 10.5,  8.5, 10. ,  9. ,  9. ,\n",
       "       14. , 10. ,  9. ,  9. , 11. , 10. , 13. , 10. , 10.5,  9. , 12. ,\n",
       "        9.5,  9. , 10. ,  9.5, 11. ,  9. , 13. ,  8. ,  5. ,  8.5,  9. ,\n",
       "       10.5, 10. ,  6.5, 10.5, 10.5,  9.5,  8.5,  9.5, 10.5, 12. ,  9.5,\n",
       "        8.5, 11. , 14. ,  9.5,  8. ,  6. , 11. ,  5. , 11. , 12. , 11. ,\n",
       "        9. , 13. ,  9.5,  9.5, 13. , 13. , 11. , 13. , 11. ,  9. ,  9. ,\n",
       "       10.5, 11.5, 10.5,  9. , 11.5,  7.5,  9. , 10. , 11.5, 11. ,  7.5,\n",
       "       14. ])"
      ]
     },
     "execution_count": 22,
     "metadata": {},
     "output_type": "execute_result"
    }
   ],
   "source": [
    "#특정 열의 데이터의 일부분만 확인\n",
    "size=np.array(df['Shoe Size'])[:100]\n",
    "size"
   ]
  },
  {
   "cell_type": "code",
   "execution_count": 18,
   "id": "fe1966f6",
   "metadata": {},
   "outputs": [
    {
     "data": {
      "text/plain": [
       "10.1"
      ]
     },
     "execution_count": 18,
     "metadata": {},
     "output_type": "execute_result"
    }
   ],
   "source": [
    "#평균 구하기\n",
    "mean=np.mean(size)\n",
    "mean"
   ]
  },
  {
   "cell_type": "code",
   "execution_count": 19,
   "id": "21e3c4bf",
   "metadata": {},
   "outputs": [
    {
     "data": {
      "text/plain": [
       "array([ 0.9,  0.9,  0.9,  1.4,  0.9, -1.6,  0.9, -0.1,  0.9,  0.9,  1.4,\n",
       "       -0.1, -1.1,  3.9, -2.1,  0.9,  0.9, -0.1, -1.1, -4.6, -1.1, -0.6,\n",
       "        3.9, -2.1,  0.9, -1.1, -2.1,  1.4,  0.4, -1.6, -0.1, -1.1, -1.1,\n",
       "        3.9, -0.1, -1.1, -1.1,  0.9, -0.1,  2.9, -0.1,  0.4, -1.1,  1.9,\n",
       "       -0.6, -1.1, -0.1, -0.6,  0.9, -1.1,  2.9, -2.1, -5.1, -1.6, -1.1,\n",
       "        0.4, -0.1, -3.6,  0.4,  0.4, -0.6, -1.6, -0.6,  0.4,  1.9, -0.6,\n",
       "       -1.6,  0.9,  3.9, -0.6, -2.1, -4.1,  0.9, -5.1,  0.9,  1.9,  0.9,\n",
       "       -1.1,  2.9, -0.6, -0.6,  2.9,  2.9,  0.9,  2.9,  0.9, -1.1, -1.1,\n",
       "        0.4,  1.4,  0.4, -1.1,  1.4, -2.6, -1.1, -0.1,  1.4,  0.9, -2.6,\n",
       "        3.9])"
      ]
     },
     "execution_count": 19,
     "metadata": {},
     "output_type": "execute_result"
    }
   ],
   "source": [
    "#편차 구하기\n",
    "deviation=size-mean\n",
    "deviation"
   ]
  },
  {
   "cell_type": "code",
   "execution_count": 20,
   "id": "8a5e2919",
   "metadata": {},
   "outputs": [
    {
     "data": {
      "text/plain": [
       "3.4099999999999993"
      ]
     },
     "execution_count": 20,
     "metadata": {},
     "output_type": "execute_result"
    }
   ],
   "source": [
    "#분산 구하기\n",
    "np.var(size)"
   ]
  },
  {
   "cell_type": "code",
   "execution_count": 23,
   "id": "d574d27e",
   "metadata": {},
   "outputs": [
    {
     "data": {
      "text/plain": [
       "array([ 0.48737732,  0.48737732,  0.48737732,  0.75814251,  0.48737732,\n",
       "       -0.86644858,  0.48737732, -0.05415304,  0.48737732,  0.48737732,\n",
       "        0.75814251, -0.05415304, -0.5956834 ,  2.11196841, -1.13721376,\n",
       "        0.48737732,  0.48737732, -0.05415304, -0.5956834 , -2.49103966,\n",
       "       -0.5956834 , -0.32491822,  2.11196841, -1.13721376,  0.48737732,\n",
       "       -0.5956834 , -1.13721376,  0.75814251,  0.21661214, -0.86644858,\n",
       "       -0.05415304, -0.5956834 , -0.5956834 ,  2.11196841, -0.05415304,\n",
       "       -0.5956834 , -0.5956834 ,  0.48737732, -0.05415304,  1.57043805,\n",
       "       -0.05415304,  0.21661214, -0.5956834 ,  1.02890769, -0.32491822,\n",
       "       -0.5956834 , -0.05415304, -0.32491822,  0.48737732, -0.5956834 ,\n",
       "        1.57043805, -1.13721376, -2.76180484, -0.86644858, -0.5956834 ,\n",
       "        0.21661214, -0.05415304, -1.9495093 ,  0.21661214,  0.21661214,\n",
       "       -0.32491822, -0.86644858, -0.32491822,  0.21661214,  1.02890769,\n",
       "       -0.32491822, -0.86644858,  0.48737732,  2.11196841, -0.32491822,\n",
       "       -1.13721376, -2.22027448,  0.48737732, -2.76180484,  0.48737732,\n",
       "        1.02890769,  0.48737732, -0.5956834 ,  1.57043805, -0.32491822,\n",
       "       -0.32491822,  1.57043805,  1.57043805,  0.48737732,  1.57043805,\n",
       "        0.48737732, -0.5956834 , -0.5956834 ,  0.21661214,  0.75814251,\n",
       "        0.21661214, -0.5956834 ,  0.75814251, -1.40797894, -0.5956834 ,\n",
       "       -0.05415304,  0.75814251,  0.48737732, -1.40797894,  2.11196841])"
      ]
     },
     "execution_count": 23,
     "metadata": {},
     "output_type": "execute_result"
    }
   ],
   "source": [
    "#정규화\n",
    "z=(size-mean)/np.std(size)\n",
    "z"
   ]
  }
 ],
 "metadata": {
  "kernelspec": {
   "display_name": "Python 3",
   "language": "python",
   "name": "python3"
  },
  "language_info": {
   "codemirror_mode": {
    "name": "ipython",
    "version": 3
   },
   "file_extension": ".py",
   "mimetype": "text/x-python",
   "name": "python",
   "nbconvert_exporter": "python",
   "pygments_lexer": "ipython3",
   "version": "3.9.4"
  }
 },
 "nbformat": 4,
 "nbformat_minor": 5
}
