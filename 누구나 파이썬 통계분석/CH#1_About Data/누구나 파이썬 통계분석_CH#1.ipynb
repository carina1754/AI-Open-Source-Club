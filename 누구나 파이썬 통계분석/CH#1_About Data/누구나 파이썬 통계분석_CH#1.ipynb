{
 "cells": [
  {
   "cell_type": "code",
   "execution_count": 1,
   "id": "1aae8cfd",
   "metadata": {},
   "outputs": [],
   "source": [
    "import pandas as pd\n",
    "import numpy as np"
   ]
  },
  {
   "cell_type": "code",
   "execution_count": 2,
   "id": "e184f94d",
   "metadata": {},
   "outputs": [],
   "source": [
    "#딕셔너리와 리스트 자료구조를 이용해 데이터 저장\n",
    "data={'MONTH':['JAN','FEB','MAR','APR','MAY'],\n",
    "      'TOTAL EXPENSES':[736434,1195378,899053,1005948,1192204],\n",
    "      'FASHION':[149000,94000,0,75000,395100]}"
   ]
  },
  {
   "cell_type": "code",
   "execution_count": 5,
   "id": "c16609ae",
   "metadata": {},
   "outputs": [
    {
     "data": {
      "text/html": [
       "<div>\n",
       "<style scoped>\n",
       "    .dataframe tbody tr th:only-of-type {\n",
       "        vertical-align: middle;\n",
       "    }\n",
       "\n",
       "    .dataframe tbody tr th {\n",
       "        vertical-align: top;\n",
       "    }\n",
       "\n",
       "    .dataframe thead th {\n",
       "        text-align: right;\n",
       "    }\n",
       "</style>\n",
       "<table border=\"1\" class=\"dataframe\">\n",
       "  <thead>\n",
       "    <tr style=\"text-align: right;\">\n",
       "      <th></th>\n",
       "      <th>MONTH</th>\n",
       "      <th>TOTAL EXPENSES</th>\n",
       "      <th>FASHION</th>\n",
       "    </tr>\n",
       "  </thead>\n",
       "  <tbody>\n",
       "    <tr>\n",
       "      <th>0</th>\n",
       "      <td>JAN</td>\n",
       "      <td>736434</td>\n",
       "      <td>149000</td>\n",
       "    </tr>\n",
       "    <tr>\n",
       "      <th>1</th>\n",
       "      <td>FEB</td>\n",
       "      <td>1195378</td>\n",
       "      <td>94000</td>\n",
       "    </tr>\n",
       "    <tr>\n",
       "      <th>2</th>\n",
       "      <td>MAR</td>\n",
       "      <td>899053</td>\n",
       "      <td>0</td>\n",
       "    </tr>\n",
       "    <tr>\n",
       "      <th>3</th>\n",
       "      <td>APR</td>\n",
       "      <td>1005948</td>\n",
       "      <td>75000</td>\n",
       "    </tr>\n",
       "    <tr>\n",
       "      <th>4</th>\n",
       "      <td>MAY</td>\n",
       "      <td>1192204</td>\n",
       "      <td>395100</td>\n",
       "    </tr>\n",
       "  </tbody>\n",
       "</table>\n",
       "</div>"
      ],
      "text/plain": [
       "  MONTH  TOTAL EXPENSES  FASHION\n",
       "0   JAN          736434   149000\n",
       "1   FEB         1195378    94000\n",
       "2   MAR          899053        0\n",
       "3   APR         1005948    75000\n",
       "4   MAY         1192204   395100"
      ]
     },
     "execution_count": 5,
     "metadata": {},
     "output_type": "execute_result"
    }
   ],
   "source": [
    "#df라는 이름으로 Pandas의 DataFrame 작성\n",
    "df=pd.DataFrame(data)\n",
    "df"
   ]
  },
  {
   "cell_type": "code",
   "execution_count": 8,
   "id": "daf7c865",
   "metadata": {
    "scrolled": true
   },
   "outputs": [
    {
     "data": {
      "text/plain": [
       "(5, 3)"
      ]
     },
     "execution_count": 8,
     "metadata": {},
     "output_type": "execute_result"
    }
   ],
   "source": [
    "#작성한 DataFrame의 열과 행에 대한 정보를 확인\n",
    "df.shape"
   ]
  },
  {
   "cell_type": "code",
   "execution_count": 9,
   "id": "0663dd71",
   "metadata": {},
   "outputs": [
    {
     "data": {
      "text/plain": [
       "Index(['MONTH', 'TOTAL EXPENSES', 'FASHION'], dtype='object')"
      ]
     },
     "execution_count": 9,
     "metadata": {},
     "output_type": "execute_result"
    }
   ],
   "source": [
    "#Feature 리스트 확인\n",
    "df.columns"
   ]
  },
  {
   "cell_type": "code",
   "execution_count": 10,
   "id": "2d3ac413",
   "metadata": {},
   "outputs": [
    {
     "data": {
      "text/plain": [
       "RangeIndex(start=0, stop=5, step=1)"
      ]
     },
     "execution_count": 10,
     "metadata": {},
     "output_type": "execute_result"
    }
   ],
   "source": [
    "#Sample 정보 확인\n",
    "df.index"
   ]
  },
  {
   "cell_type": "code",
   "execution_count": 11,
   "id": "906c6e96",
   "metadata": {},
   "outputs": [
    {
     "data": {
      "text/plain": [
       "array([['JAN', 736434, 149000],\n",
       "       ['FEB', 1195378, 94000],\n",
       "       ['MAR', 899053, 0],\n",
       "       ['APR', 1005948, 75000],\n",
       "       ['MAY', 1192204, 395100]], dtype=object)"
      ]
     },
     "execution_count": 11,
     "metadata": {},
     "output_type": "execute_result"
    }
   ],
   "source": [
    "#각 열과 행에 해당되는 데이터 출력\n",
    "df.values"
   ]
  },
  {
   "cell_type": "code",
   "execution_count": 16,
   "id": "f4530570",
   "metadata": {},
   "outputs": [
    {
     "data": {
      "text/plain": [
       "0     736434\n",
       "1    1195378\n",
       "2     899053\n",
       "3    1005948\n",
       "4    1192204\n",
       "Name: TOTAL EXPENSES, dtype: int64"
      ]
     },
     "execution_count": 16,
     "metadata": {},
     "output_type": "execute_result"
    }
   ],
   "source": [
    "#특정 feature에 대한 데이터 확인\n",
    "df['TOTAL EXPENSES']"
   ]
  },
  {
   "cell_type": "code",
   "execution_count": 17,
   "id": "a7a48e53",
   "metadata": {},
   "outputs": [],
   "source": [
    "#특정 feature에 대한 데이터 변경\n",
    "df['FASHION']=0"
   ]
  },
  {
   "cell_type": "code",
   "execution_count": 19,
   "id": "525bb084",
   "metadata": {},
   "outputs": [
    {
     "data": {
      "text/html": [
       "<div>\n",
       "<style scoped>\n",
       "    .dataframe tbody tr th:only-of-type {\n",
       "        vertical-align: middle;\n",
       "    }\n",
       "\n",
       "    .dataframe tbody tr th {\n",
       "        vertical-align: top;\n",
       "    }\n",
       "\n",
       "    .dataframe thead th {\n",
       "        text-align: right;\n",
       "    }\n",
       "</style>\n",
       "<table border=\"1\" class=\"dataframe\">\n",
       "  <thead>\n",
       "    <tr style=\"text-align: right;\">\n",
       "      <th></th>\n",
       "      <th>MONTH</th>\n",
       "      <th>TOTAL EXPENSES</th>\n",
       "      <th>FASHION</th>\n",
       "    </tr>\n",
       "  </thead>\n",
       "  <tbody>\n",
       "    <tr>\n",
       "      <th>0</th>\n",
       "      <td>JAN</td>\n",
       "      <td>736434</td>\n",
       "      <td>0</td>\n",
       "    </tr>\n",
       "    <tr>\n",
       "      <th>1</th>\n",
       "      <td>FEB</td>\n",
       "      <td>1195378</td>\n",
       "      <td>0</td>\n",
       "    </tr>\n",
       "    <tr>\n",
       "      <th>2</th>\n",
       "      <td>MAR</td>\n",
       "      <td>899053</td>\n",
       "      <td>0</td>\n",
       "    </tr>\n",
       "    <tr>\n",
       "      <th>3</th>\n",
       "      <td>APR</td>\n",
       "      <td>1005948</td>\n",
       "      <td>0</td>\n",
       "    </tr>\n",
       "    <tr>\n",
       "      <th>4</th>\n",
       "      <td>MAY</td>\n",
       "      <td>1192204</td>\n",
       "      <td>0</td>\n",
       "    </tr>\n",
       "  </tbody>\n",
       "</table>\n",
       "</div>"
      ],
      "text/plain": [
       "  MONTH  TOTAL EXPENSES  FASHION\n",
       "0   JAN          736434        0\n",
       "1   FEB         1195378        0\n",
       "2   MAR          899053        0\n",
       "3   APR         1005948        0\n",
       "4   MAY         1192204        0"
      ]
     },
     "execution_count": 19,
     "metadata": {},
     "output_type": "execute_result"
    }
   ],
   "source": [
    "df"
   ]
  },
  {
   "cell_type": "code",
   "execution_count": 20,
   "id": "c179ecec",
   "metadata": {},
   "outputs": [],
   "source": [
    "df['FASHION']=[1,2,3,4,5]"
   ]
  },
  {
   "cell_type": "code",
   "execution_count": 21,
   "id": "8b31deca",
   "metadata": {},
   "outputs": [
    {
     "data": {
      "text/html": [
       "<div>\n",
       "<style scoped>\n",
       "    .dataframe tbody tr th:only-of-type {\n",
       "        vertical-align: middle;\n",
       "    }\n",
       "\n",
       "    .dataframe tbody tr th {\n",
       "        vertical-align: top;\n",
       "    }\n",
       "\n",
       "    .dataframe thead th {\n",
       "        text-align: right;\n",
       "    }\n",
       "</style>\n",
       "<table border=\"1\" class=\"dataframe\">\n",
       "  <thead>\n",
       "    <tr style=\"text-align: right;\">\n",
       "      <th></th>\n",
       "      <th>MONTH</th>\n",
       "      <th>TOTAL EXPENSES</th>\n",
       "      <th>FASHION</th>\n",
       "    </tr>\n",
       "  </thead>\n",
       "  <tbody>\n",
       "    <tr>\n",
       "      <th>0</th>\n",
       "      <td>JAN</td>\n",
       "      <td>736434</td>\n",
       "      <td>1</td>\n",
       "    </tr>\n",
       "    <tr>\n",
       "      <th>1</th>\n",
       "      <td>FEB</td>\n",
       "      <td>1195378</td>\n",
       "      <td>2</td>\n",
       "    </tr>\n",
       "    <tr>\n",
       "      <th>2</th>\n",
       "      <td>MAR</td>\n",
       "      <td>899053</td>\n",
       "      <td>3</td>\n",
       "    </tr>\n",
       "    <tr>\n",
       "      <th>3</th>\n",
       "      <td>APR</td>\n",
       "      <td>1005948</td>\n",
       "      <td>4</td>\n",
       "    </tr>\n",
       "    <tr>\n",
       "      <th>4</th>\n",
       "      <td>MAY</td>\n",
       "      <td>1192204</td>\n",
       "      <td>5</td>\n",
       "    </tr>\n",
       "  </tbody>\n",
       "</table>\n",
       "</div>"
      ],
      "text/plain": [
       "  MONTH  TOTAL EXPENSES  FASHION\n",
       "0   JAN          736434        1\n",
       "1   FEB         1195378        2\n",
       "2   MAR          899053        3\n",
       "3   APR         1005948        4\n",
       "4   MAY         1192204        5"
      ]
     },
     "execution_count": 21,
     "metadata": {},
     "output_type": "execute_result"
    }
   ],
   "source": [
    "df"
   ]
  },
  {
   "cell_type": "code",
   "execution_count": 38,
   "id": "09b841f3",
   "metadata": {},
   "outputs": [
    {
     "data": {
      "text/html": [
       "<div>\n",
       "<style scoped>\n",
       "    .dataframe tbody tr th:only-of-type {\n",
       "        vertical-align: middle;\n",
       "    }\n",
       "\n",
       "    .dataframe tbody tr th {\n",
       "        vertical-align: top;\n",
       "    }\n",
       "\n",
       "    .dataframe thead th {\n",
       "        text-align: right;\n",
       "    }\n",
       "</style>\n",
       "<table border=\"1\" class=\"dataframe\">\n",
       "  <thead>\n",
       "    <tr style=\"text-align: right;\">\n",
       "      <th></th>\n",
       "      <th>MONTH</th>\n",
       "      <th>TOTAL EXPENSES</th>\n",
       "      <th>FASHION</th>\n",
       "      <th>etc</th>\n",
       "    </tr>\n",
       "  </thead>\n",
       "  <tbody>\n",
       "    <tr>\n",
       "      <th>0</th>\n",
       "      <td>JAN</td>\n",
       "      <td>736434</td>\n",
       "      <td>1</td>\n",
       "      <td>0</td>\n",
       "    </tr>\n",
       "    <tr>\n",
       "      <th>1</th>\n",
       "      <td>FEB</td>\n",
       "      <td>1195378</td>\n",
       "      <td>2</td>\n",
       "      <td>1</td>\n",
       "    </tr>\n",
       "    <tr>\n",
       "      <th>2</th>\n",
       "      <td>MAR</td>\n",
       "      <td>899053</td>\n",
       "      <td>3</td>\n",
       "      <td>2</td>\n",
       "    </tr>\n",
       "    <tr>\n",
       "      <th>3</th>\n",
       "      <td>APR</td>\n",
       "      <td>1005948</td>\n",
       "      <td>4</td>\n",
       "      <td>3</td>\n",
       "    </tr>\n",
       "    <tr>\n",
       "      <th>4</th>\n",
       "      <td>MAY</td>\n",
       "      <td>1192204</td>\n",
       "      <td>5</td>\n",
       "      <td>4</td>\n",
       "    </tr>\n",
       "  </tbody>\n",
       "</table>\n",
       "</div>"
      ],
      "text/plain": [
       "  MONTH  TOTAL EXPENSES  FASHION  etc\n",
       "0   JAN          736434        1    0\n",
       "1   FEB         1195378        2    1\n",
       "2   MAR          899053        3    2\n",
       "3   APR         1005948        4    3\n",
       "4   MAY         1192204        5    4"
      ]
     },
     "execution_count": 38,
     "metadata": {},
     "output_type": "execute_result"
    }
   ],
   "source": [
    "df['etc']=np.arange(5)\n",
    "df"
   ]
  },
  {
   "cell_type": "code",
   "execution_count": 39,
   "id": "f6cf5609",
   "metadata": {},
   "outputs": [
    {
     "data": {
      "text/html": [
       "<div>\n",
       "<style scoped>\n",
       "    .dataframe tbody tr th:only-of-type {\n",
       "        vertical-align: middle;\n",
       "    }\n",
       "\n",
       "    .dataframe tbody tr th {\n",
       "        vertical-align: top;\n",
       "    }\n",
       "\n",
       "    .dataframe thead th {\n",
       "        text-align: right;\n",
       "    }\n",
       "</style>\n",
       "<table border=\"1\" class=\"dataframe\">\n",
       "  <thead>\n",
       "    <tr style=\"text-align: right;\">\n",
       "      <th></th>\n",
       "      <th>MONTH</th>\n",
       "      <th>TOTAL EXPENSES</th>\n",
       "      <th>FASHION</th>\n",
       "      <th>etc</th>\n",
       "    </tr>\n",
       "  </thead>\n",
       "  <tbody>\n",
       "    <tr>\n",
       "      <th>0</th>\n",
       "      <td>JAN</td>\n",
       "      <td>736434</td>\n",
       "      <td>1</td>\n",
       "      <td>0</td>\n",
       "    </tr>\n",
       "    <tr>\n",
       "      <th>1</th>\n",
       "      <td>FEB</td>\n",
       "      <td>1195378</td>\n",
       "      <td>2</td>\n",
       "      <td>1</td>\n",
       "    </tr>\n",
       "    <tr>\n",
       "      <th>2</th>\n",
       "      <td>MAR</td>\n",
       "      <td>899053</td>\n",
       "      <td>3</td>\n",
       "      <td>2</td>\n",
       "    </tr>\n",
       "  </tbody>\n",
       "</table>\n",
       "</div>"
      ],
      "text/plain": [
       "  MONTH  TOTAL EXPENSES  FASHION  etc\n",
       "0   JAN          736434        1    0\n",
       "1   FEB         1195378        2    1\n",
       "2   MAR          899053        3    2"
      ]
     },
     "execution_count": 39,
     "metadata": {},
     "output_type": "execute_result"
    }
   ],
   "source": [
    "#인덱싱을 통해 sample의 일부분만 확인 --> 0번째 인덱스부터 시작\n",
    "df[0:3]"
   ]
  },
  {
   "cell_type": "code",
   "execution_count": 41,
   "id": "92518ef2",
   "metadata": {},
   "outputs": [
    {
     "data": {
      "text/plain": [
       "MONTH                 FEB\n",
       "TOTAL EXPENSES    1195378\n",
       "FASHION                 2\n",
       "etc                     1\n",
       "Name: 1, dtype: object"
      ]
     },
     "execution_count": 41,
     "metadata": {},
     "output_type": "execute_result"
    }
   ],
   "source": [
    "#loc을 이용해 행 또는 열의 데이터 조회\n",
    "#loc은 중괄호가 아닌 대괄호 사용\n",
    "#1번재 인덱스에 해당되는 sample의 데이터 조회\n",
    "df.loc[1]"
   ]
  }
 ],
 "metadata": {
  "kernelspec": {
   "display_name": "Python 3",
   "language": "python",
   "name": "python3"
  },
  "language_info": {
   "codemirror_mode": {
    "name": "ipython",
    "version": 3
   },
   "file_extension": ".py",
   "mimetype": "text/x-python",
   "name": "python",
   "nbconvert_exporter": "python",
   "pygments_lexer": "ipython3",
   "version": "3.9.4"
  }
 },
 "nbformat": 4,
 "nbformat_minor": 5
}
