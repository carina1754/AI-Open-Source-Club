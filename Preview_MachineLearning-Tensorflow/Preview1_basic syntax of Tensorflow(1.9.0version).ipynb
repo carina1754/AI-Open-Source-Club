{
 "cells": [
  {
   "cell_type": "code",
   "execution_count": 2,
   "id": "96bce7fe",
   "metadata": {},
   "outputs": [],
   "source": [
    "import tensorflow as tf"
   ]
  },
  {
   "cell_type": "code",
   "execution_count": null,
   "id": "e16420cd",
   "metadata": {},
   "outputs": [],
   "source": [
    "#1) how to use constant? --> constant()"
   ]
  },
  {
   "cell_type": "code",
   "execution_count": 3,
   "id": "b4dd42eb",
   "metadata": {},
   "outputs": [],
   "source": [
    "a=tf.constant(1)\n",
    "b=tf.constant(2)\n",
    "c=tf.add(a,b)"
   ]
  },
  {
   "cell_type": "code",
   "execution_count": 4,
   "id": "81740a22",
   "metadata": {},
   "outputs": [],
   "source": [
    "sess=tf.Session()"
   ]
  },
  {
   "cell_type": "code",
   "execution_count": 5,
   "id": "2b34b404",
   "metadata": {},
   "outputs": [
    {
     "data": {
      "text/plain": [
       "3"
      ]
     },
     "execution_count": 5,
     "metadata": {},
     "output_type": "execute_result"
    }
   ],
   "source": [
    "sess.run(c)"
   ]
  },
  {
   "cell_type": "code",
   "execution_count": 6,
   "id": "7d284c0b",
   "metadata": {},
   "outputs": [],
   "source": [
    "#2) how to use variable? --> variable()"
   ]
  },
  {
   "cell_type": "code",
   "execution_count": 7,
   "id": "a00730b7",
   "metadata": {},
   "outputs": [],
   "source": [
    "a=tf.Variable(5)\n",
    "b=tf.Variable(3)\n",
    "c=tf.multiply(a,b)"
   ]
  },
  {
   "cell_type": "code",
   "execution_count": 8,
   "id": "74a12472",
   "metadata": {},
   "outputs": [],
   "source": [
    "init=tf.global_variables_initializer()"
   ]
  },
  {
   "cell_type": "code",
   "execution_count": 9,
   "id": "f9b28137",
   "metadata": {},
   "outputs": [],
   "source": [
    "sess.run(init)"
   ]
  },
  {
   "cell_type": "code",
   "execution_count": 11,
   "id": "a63594d2",
   "metadata": {},
   "outputs": [
    {
     "data": {
      "text/plain": [
       "15"
      ]
     },
     "execution_count": 11,
     "metadata": {},
     "output_type": "execute_result"
    }
   ],
   "source": [
    "sess.run(c)"
   ]
  },
  {
   "cell_type": "code",
   "execution_count": 13,
   "id": "a1450459",
   "metadata": {},
   "outputs": [],
   "source": [
    "#3) what is tensor? --> 여러개의 숫자를 한번에 연산할 수 있는 자료형(consider MATRIX) -->리스트 형식을 빌려 숫자 여러개 할당"
   ]
  },
  {
   "cell_type": "code",
   "execution_count": 16,
   "id": "a12682a0",
   "metadata": {},
   "outputs": [],
   "source": [
    "x=tf.constant([2,4,6])\n",
    "y=tf.constant([3,6,9])\n",
    "z=tf.add(x,y)"
   ]
  },
  {
   "cell_type": "code",
   "execution_count": 17,
   "id": "f516b16b",
   "metadata": {},
   "outputs": [],
   "source": [
    "sess=tf.Session()"
   ]
  },
  {
   "cell_type": "code",
   "execution_count": 18,
   "id": "a0589749",
   "metadata": {},
   "outputs": [
    {
     "data": {
      "text/plain": [
       "array([ 5, 10, 15])"
      ]
     },
     "execution_count": 18,
     "metadata": {},
     "output_type": "execute_result"
    }
   ],
   "source": [
    "sess.run(z)"
   ]
  },
  {
   "cell_type": "code",
   "execution_count": 20,
   "id": "4172e205",
   "metadata": {},
   "outputs": [],
   "source": [
    "MAT1=tf.constant([[5,10,15],#두개의 2X3크기 행렬의 덧셈 연산 구현\n",
    "                 [20,25,30]])\n",
    "MAT2=tf.constant([[4,8,12],\n",
    "                 [16,20,25]])"
   ]
  },
  {
   "cell_type": "code",
   "execution_count": 21,
   "id": "a1274767",
   "metadata": {},
   "outputs": [],
   "source": [
    "matResult=tf.add(MAT1,MAT2)"
   ]
  },
  {
   "cell_type": "code",
   "execution_count": 22,
   "id": "5bfc7dd5",
   "metadata": {},
   "outputs": [],
   "source": [
    "sess=tf.Session()"
   ]
  },
  {
   "cell_type": "code",
   "execution_count": 23,
   "id": "f9cd93ae",
   "metadata": {},
   "outputs": [
    {
     "data": {
      "text/plain": [
       "array([[ 9, 18, 27],\n",
       "       [36, 45, 55]])"
      ]
     },
     "execution_count": 23,
     "metadata": {},
     "output_type": "execute_result"
    }
   ],
   "source": [
    "sess.run(matResult)"
   ]
  },
  {
   "cell_type": "code",
   "execution_count": 25,
   "id": "42f3b51f",
   "metadata": {},
   "outputs": [],
   "source": [
    "matShape=MAT1.shape"
   ]
  },
  {
   "cell_type": "code",
   "execution_count": 29,
   "id": "f93da995",
   "metadata": {},
   "outputs": [
    {
     "name": "stdout",
     "output_type": "stream",
     "text": [
      "(2, 3)\n"
     ]
    }
   ],
   "source": [
    "print(matShape)#shape메서드를 통해 텐서가 몇차원인지 확인 --> \"3개의 자료가 들어있는 리스트가 있는데, 해당 리스트가 2개\""
   ]
  },
  {
   "cell_type": "code",
   "execution_count": 30,
   "id": "1fea2a3e",
   "metadata": {},
   "outputs": [],
   "source": [
    "#4) what is placeholder? --> 학습 데이터를 포함하는 변수 --> 일차함수 식에서 x값을 고려(Tensorflow2.x이상부터는 미사용)"
   ]
  },
  {
   "cell_type": "code",
   "execution_count": 31,
   "id": "3eb5e482",
   "metadata": {},
   "outputs": [],
   "source": [
    "input=[1,2,3,4,5]"
   ]
  },
  {
   "cell_type": "code",
   "execution_count": 32,
   "id": "65c1102f",
   "metadata": {},
   "outputs": [],
   "source": [
    "x=tf.placeholder(dtype=tf.float32)"
   ]
  },
  {
   "cell_type": "code",
   "execution_count": 33,
   "id": "8a8c6e10",
   "metadata": {},
   "outputs": [],
   "source": [
    "y=x+5"
   ]
  },
  {
   "cell_type": "code",
   "execution_count": 34,
   "id": "18594302",
   "metadata": {},
   "outputs": [],
   "source": [
    "sess=tf.Session()"
   ]
  },
  {
   "cell_type": "code",
   "execution_count": 35,
   "id": "31b98534",
   "metadata": {},
   "outputs": [
    {
     "data": {
      "text/plain": [
       "array([ 6.,  7.,  8.,  9., 10.], dtype=float32)"
      ]
     },
     "execution_count": 35,
     "metadata": {},
     "output_type": "execute_result"
    }
   ],
   "source": [
    "sess.run(y, feed_dict={x: input})"
   ]
  }
 ],
 "metadata": {
  "kernelspec": {
   "display_name": "Python 3",
   "language": "python",
   "name": "python3"
  },
  "language_info": {
   "codemirror_mode": {
    "name": "ipython",
    "version": 3
   },
   "file_extension": ".py",
   "mimetype": "text/x-python",
   "name": "python",
   "nbconvert_exporter": "python",
   "pygments_lexer": "ipython3",
   "version": "3.6.2"
  }
 },
 "nbformat": 4,
 "nbformat_minor": 5
}
