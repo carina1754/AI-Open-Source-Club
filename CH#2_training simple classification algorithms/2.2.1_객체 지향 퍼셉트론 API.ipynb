{
 "cells": [
  {
   "cell_type": "code",
   "execution_count": 1,
   "metadata": {},
   "outputs": [],
   "source": [
    "import numpy as np"
   ]
  },
  {
   "cell_type": "code",
   "execution_count": 2,
   "metadata": {},
   "outputs": [],
   "source": [
    "#eta = 학습률  n_iter = 훈련 데이터셋 반복 횟수 random_state = 가중치 무작위 초기화\n",
    "class Perceptron(object):\n",
    "    def __init__(self, eta=0.01, n_iter=50, random_state=1):#C++의 생성자 느낌? --> 멤버변수를 초기화 하는거같아\n",
    "        self.eta=eta\n",
    "        self.n_iter=n_iter\n",
    "        self.random_state=random_state\n",
    "    def fit(self,X,y):#훈련 데이터 학습 --> w = 학습된 가중치\n",
    "        rgen=np.random.RandomState(self.random_state)\n",
    "        self.w_=rgen.normal(loc=0.0,scale=0.01,size=1+X.shape[1])\n",
    "        self.errors_=[]\n",
    "        \n",
    "        for _ in range(self.n_iter):\n",
    "            errors=0\n",
    "            for xi, target in zip(X,y):\n",
    "                update=self.eta*(target-self.predict(xi))\n",
    "                self.w_[1:]+=update*xi\n",
    "                self.w_[0]+=update\n",
    "                errors+=int(update != 0.0)\n",
    "            self.errors_.append(errors)\n",
    "        return self\n",
    "    def net_input(self,X):#입력 계산\n",
    "        return np.dot(X,self.w_[1:])+self.w_[0]\n",
    "    def predict(self,X):#단위 계단 함수?\n",
    "        return np.where(self.net_input(X)>=0.0,1,-1)"
   ]
  },
  {
   "cell_type": "code",
   "execution_count": null,
   "metadata": {},
   "outputs": [],
   "source": []
  }
 ],
 "metadata": {
  "kernelspec": {
   "display_name": "Python 3",
   "language": "python",
   "name": "python3"
  },
  "language_info": {
   "codemirror_mode": {
    "name": "ipython",
    "version": 3
   },
   "file_extension": ".py",
   "mimetype": "text/x-python",
   "name": "python",
   "nbconvert_exporter": "python",
   "pygments_lexer": "ipython3",
   "version": "3.6.2"
  }
 },
 "nbformat": 4,
 "nbformat_minor": 4
}
