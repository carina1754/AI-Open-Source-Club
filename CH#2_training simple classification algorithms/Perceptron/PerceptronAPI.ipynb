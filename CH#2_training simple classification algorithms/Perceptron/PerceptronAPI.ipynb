{
 "cells": [
  {
   "cell_type": "markdown",
   "id": "4ef9c645",
   "metadata": {},
   "source": [
    "# ✅Perceptron 클래스\n",
    "\n",
    "자바, C++을 통해 **❗객체 지향 프로그래밍❗**을 접했다면 해당 코드를 해석하는데 큰 문제가 없겠지만, 그렇지 않다면 객체 지향의 **'최소한'**의 원리는 학습하고 와야합니다. 최소한이란 **클래스와 객체의 관계, 생성자의 역할, 멤버메소드, 인스턴스 변수**가 객체 지향 프로그래밍에서 어떤 역할을 하는지를 말합니다. \n",
    "\n",
    "물론 이와 같은 요소들이 객체 지향의 전부이긴 하지만, 해당 개념이 부족하면 앞으로 Perceptron 뿐만이 아니라 sklearn에서 제공하는 다양한 학습 모델들에 대한 코드를 해석하는데 어려움이 있을겁니다. ❗시간이 걸리더라도 객체 지향 프로그램의 개념에 대해 꼭 한 번 살펴보기를 바랍니다.\n",
    "\n",
    "그러면 객체 지향의 개념을 학습하고 왔다는 가정하에 퍼셉트론 클래스를 살펴보지요. 크게 3가지를 기준점으로 잡아 분석해보겠습니다.\n",
    "\n",
    "   > * **생성자 ( init )**\n",
    "\n",
    "   > * **인스턴스 변수 ( eta, n_iter, random_state, errors_, w_ )**\n",
    "\n",
    "   > * **멤버 메소드 ( fit, net_input, predict )**\n",
    "   \n",
    "📝 사실 본인부터 퍼셉트론 코드를 통해 머신러닝의 기본 개념을 습득하는데 굉장히 오랜 시간이 걸렸습니다.(다른 분들은 금방 이해할겁니다...!) 개인적으로 생각하기에 앞으로 머신러닝, 딥러닝을 하는데 있어 퍼셉트론과 아달린은 기초중 기초가 되는 부분이라 생각해 좀 '후벼 팠습니다.' 쓸데없는 학습이었지만 그래도 이거 하나는 귀에 들어오더라구요.\n",
    "\n",
    "> * **\"머신러닝은 합리적인 가중치(w)와 편향(b)을 탐색하는 것이다!\"**\n",
    "\n",
    "이글을 보시는 분이 있다면 저의 빈약한 글을 보고 위와 같은 깨달음을 느꼈으면 좋겠습니다. 그럼 생성자부터 보겠습니다.\n",
    "\n",
    "## 1️⃣생성자\n",
    "\n",
    "> * 예시를 하나 들어볼게요. 이삭토스트 가봤죠? 거기 가면 이모님이 계란 부칠때 사용하는 정사각형 틀있잖아요? 그 '틀'이 class Perceptron 입니다. 계란의 모양을 잡아주는 역할만 할 뿐이지 먹을 수 있는 상태가 아닙니다. 자 아직 class Perceptron이라는 틀에는 어떠한 내용물이 들어가지 않았습니다. 근데 손님이 와서 계란토스트를 하나 시켰어요. 그럼 이제 토스트를 만들기 위해 틀에 계란을 까서 부쳐야겠죠? 당연히? 틀에 계란을 넣었습니다.\n",
    "\n",
    ">> **ppn = Perceptron()**\n",
    "\n",
    "## 2️⃣인스턴스 변수\n",
    "\n",
    "> \n",
    "\n",
    "\n"
   ]
  },
  {
   "cell_type": "code",
   "execution_count": 1,
   "id": "3c36cfb6",
   "metadata": {},
   "outputs": [],
   "source": [
    "import numpy as np"
   ]
  },
  {
   "cell_type": "code",
   "execution_count": 2,
   "id": "28c0ec70",
   "metadata": {},
   "outputs": [],
   "source": [
    "class Perceptron(object):\n",
    "       \n",
    "    def __init__(self, eta=0.01, n_iter=50, random_state=1):\n",
    "        self.eta = eta\n",
    "        self.n_iter = n_iter\n",
    "        self.random_state = random_state\n",
    " \n",
    "    def fit(self, X, y):\n",
    "        rgen = np.random.RandomState(self.random_state)\n",
    "        self.w_ = rgen.normal(loc=0.0, scale=0.01, size=1 + X.shape[1])\n",
    "        self.errors_ = []\n",
    "\n",
    "        for _ in range(self.n_iter):\n",
    "            errors = 0\n",
    "            for xi, target in zip(X, y):\n",
    "                update = self.eta * (target - self.predict(xi))\n",
    "                self.w_[1:] += update * xi\n",
    "                self.w_[0] += update\n",
    "                errors += int(update != 0.0)\n",
    "            self.errors_.append(errors)\n",
    "        return self\n",
    "    \n",
    "    def net_input(self, X):\n",
    "        return np.dot(X, self.w_[1:]) + self.w_[0]\n",
    "\n",
    "    def predict(self, X):\n",
    "        return np.where(self.net_input(X) >= 0.0, 1, -1)"
   ]
  }
 ],
 "metadata": {
  "kernelspec": {
   "display_name": "Python 3",
   "language": "python",
   "name": "python3"
  },
  "language_info": {
   "codemirror_mode": {
    "name": "ipython",
    "version": 3
   },
   "file_extension": ".py",
   "mimetype": "text/x-python",
   "name": "python",
   "nbconvert_exporter": "python",
   "pygments_lexer": "ipython3",
   "version": "3.9.4"
  }
 },
 "nbformat": 4,
 "nbformat_minor": 5
}
