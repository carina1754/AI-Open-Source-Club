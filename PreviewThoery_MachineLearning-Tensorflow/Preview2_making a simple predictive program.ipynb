{
 "cells": [
  {
   "cell_type": "code",
   "execution_count": 23,
   "id": "3847ad13",
   "metadata": {},
   "outputs": [],
   "source": [
    "#머신러닝을 이용한 간단한 예측프로그램 만들기\n",
    "#<8시간 일했을 때 매출량이 어떻게 나올지에 대해 컴퓨터가 예측을 해보는 프로그램>\n",
    "import tensorflow as tf"
   ]
  },
  {
   "cell_type": "code",
   "execution_count": 10,
   "id": "fbdf72c1",
   "metadata": {},
   "outputs": [],
   "source": [
    "xData=[1,2,3,4,5,6,7]#x축 데이터 = 하루 노동시간\n",
    "yData=[25000,55000,75000,110000,128000,155000,180000]#y축 데이터 = 하루 매출량"
   ]
  },
  {
   "cell_type": "code",
   "execution_count": 11,
   "id": "8640ebc3",
   "metadata": {},
   "outputs": [],
   "source": [
    "W=tf.Variable(tf.random_uniform([1],-100,100))#가설의 기울기 = '가중치'--> -100부터 100사이의 값이 할당될 수 있도록\n",
    "b=tf.Variable(tf.random_uniform([1],-100,100))#편향(BIAS)"
   ]
  },
  {
   "cell_type": "code",
   "execution_count": 12,
   "id": "150b4f94",
   "metadata": {},
   "outputs": [],
   "source": [
    "X=tf.placeholder(tf.float32)\n",
    "Y=tf.placeholder(tf.float32)"
   ]
  },
  {
   "cell_type": "code",
   "execution_count": 13,
   "id": "ff04d8d2",
   "metadata": {},
   "outputs": [],
   "source": [
    "H=W*X+b#가설 정의"
   ]
  },
  {
   "cell_type": "code",
   "execution_count": 14,
   "id": "3f4f5109",
   "metadata": {},
   "outputs": [],
   "source": [
    "cost=tf.reduce_mean(tf.square(H-Y))#LOSS Func정의 \n",
    "a=tf.Variable(0.01)#경사하강 알고리즘에서 얼마만클 하강하는지 설정"
   ]
  },
  {
   "cell_type": "code",
   "execution_count": 15,
   "id": "356144ea",
   "metadata": {},
   "outputs": [],
   "source": [
    "optimizer=tf.train.GradientDescentOptimizer(a)\n",
    "train=optimizer.minimize(cost)#LOSS Func의 값이 최소가 되도록\n"
   ]
  },
  {
   "cell_type": "code",
   "execution_count": 16,
   "id": "42a4288d",
   "metadata": {},
   "outputs": [],
   "source": [
    "init=tf.global_variables_initializer()"
   ]
  },
  {
   "cell_type": "code",
   "execution_count": 17,
   "id": "4247102b",
   "metadata": {},
   "outputs": [],
   "source": [
    "sess=tf.Session()"
   ]
  },
  {
   "cell_type": "code",
   "execution_count": 18,
   "id": "be81cf65",
   "metadata": {},
   "outputs": [],
   "source": [
    "sess.run(init)"
   ]
  },
  {
   "cell_type": "code",
   "execution_count": 22,
   "id": "1bc2723f",
   "metadata": {},
   "outputs": [
    {
     "name": "stdout",
     "output_type": "stream",
     "text": [
      "0 8632656.0 [25642.848] [1428.6133]\n",
      "500 8632656.0 [25642.848] [1428.6133]\n",
      "1000 8632656.0 [25642.848] [1428.6133]\n",
      "1500 8632656.0 [25642.848] [1428.6133]\n",
      "2000 8632656.0 [25642.848] [1428.6133]\n",
      "2500 8632656.0 [25642.848] [1428.6133]\n",
      "3000 8632656.0 [25642.848] [1428.6133]\n",
      "3500 8632656.0 [25642.848] [1428.6133]\n",
      "4000 8632656.0 [25642.848] [1428.6133]\n",
      "4500 8632656.0 [25642.848] [1428.6133]\n",
      "5000 8632656.0 [25642.848] [1428.6133]\n",
      "[206571.39]\n"
     ]
    }
   ],
   "source": [
    "for i in range(5001):#학습 진행\n",
    "    sess.run(train, feed_dict={X:xData,Y:yData})\n",
    "    if i%500==0:\n",
    "        print(i,sess.run(cost,feed_dict={X:xData,Y:yData}),sess.run(W),sess.run(b))\n",
    "print(sess.run(H,feed_dict={X:[8]}))#8시간 일했을 때 매출량은 얼마일지 프로그램이 예측할 수 있도록"
   ]
  }
 ],
 "metadata": {
  "kernelspec": {
   "display_name": "Python 3",
   "language": "python",
   "name": "python3"
  },
  "language_info": {
   "codemirror_mode": {
    "name": "ipython",
    "version": 3
   },
   "file_extension": ".py",
   "mimetype": "text/x-python",
   "name": "python",
   "nbconvert_exporter": "python",
   "pygments_lexer": "ipython3",
   "version": "3.6.2"
  }
 },
 "nbformat": 4,
 "nbformat_minor": 5
}
